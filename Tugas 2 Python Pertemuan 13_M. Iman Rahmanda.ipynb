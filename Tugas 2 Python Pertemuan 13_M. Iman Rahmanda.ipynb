{
  "nbformat": 4,
  "nbformat_minor": 0,
  "metadata": {
    "colab": {
      "name": "Untitled2.ipynb",
      "provenance": [],
      "authorship_tag": "ABX9TyOaMFaV9SkzOqDWkxS9uo4q",
      "include_colab_link": true
    },
    "kernelspec": {
      "name": "python3",
      "display_name": "Python 3"
    }
  },
  "cells": [
    {
      "cell_type": "markdown",
      "metadata": {
        "id": "view-in-github",
        "colab_type": "text"
      },
      "source": [
        "<a href=\"https://colab.research.google.com/github/imanrahman52/Tugas_Pemrograman_Python/blob/main/Tugas%202%20Python%20Pertemuan%2013_M.%20Iman%20Rahmanda.ipynb\" target=\"_parent\"><img src=\"https://colab.research.google.com/assets/colab-badge.svg\" alt=\"Open In Colab\"/></a>"
      ]
    },
    {
      "cell_type": "code",
      "metadata": {
        "id": "01Ps1y7maZsT"
      },
      "source": [
        "import numpy as np\r\n",
        "import matplotlib.pyplot as plt\r\n"
      ],
      "execution_count": 1,
      "outputs": []
    },
    {
      "cell_type": "code",
      "metadata": {
        "colab": {
          "base_uri": "https://localhost:8080/"
        },
        "id": "LMUsXOPzaWzV",
        "outputId": "67bdb3d6-49eb-4601-a7a4-c1d53a5b7c5f"
      },
      "source": [
        "print (\"M.Iman Rahmanda_1101180335\")\r\n",
        "def cos(frek,tipe,ht,hr,d):\r\n",
        "    if frek in range(150,1501):\r\n",
        "        Ca=69.55\r\n",
        "        Cb=26.16\r\n",
        "    elif frek in range(1501,2001):\r\n",
        "        Ca=46.3\r\n",
        "        Cb=33.9\r\n",
        "    \r\n",
        "    if tipe=='urban' :\r\n",
        "        Cm=0\r\n",
        "    elif tipe=='suburban' :\r\n",
        "        Cm= -2*((np.log10((frek/28)**2))-5.4)\r\n",
        "    elif tipe=='open' :\r\n",
        "        Cm= -4.78*(np.log10(frek))+18.33*(np.log10(frek))-40.94\r\n",
        "    else :\r\n",
        "        Cm='tipe salah'\r\n",
        "    \r\n",
        "    ahr = (1.1*np.log10(frek)-0.7)*hr-(1.56*np.log10(frek)-1.8)\r\n",
        "    Lp = Ca+(Cb*np.log10(frek))-(13.83*np.log(ht))-ahr+((44.9-6.55*np.log10(ht))*np.log10(d))-Cm\r\n",
        "    \r\n",
        "    return Lp"
      ],
      "execution_count": 2,
      "outputs": [
        {
          "output_type": "stream",
          "text": [
            "M.Iman Rahmanda_1101180335\n"
          ],
          "name": "stdout"
        }
      ]
    },
    {
      "cell_type": "code",
      "metadata": {
        "colab": {
          "base_uri": "https://localhost:8080/"
        },
        "id": "1RY8oGvFabwD",
        "outputId": "c7b7513d-d73b-4e80-ed05-8ef9e267809d"
      },
      "source": [
        "print (\"M.Iman Rahmanda_1101180335\")\r\n",
        "freku=1800 #MHz\r\n",
        "loc='urban'\r\n",
        "tower=80 #m\r\n",
        "user=1.5 #m\r\n",
        "Dmin=200 #m\r\n",
        "Dmax=700 #m\r\n",
        "N=200 #titik\r\n",
        "D=np.random.randint(Dmin,Dmax,N)\r\n",
        "print(D)"
      ],
      "execution_count": 3,
      "outputs": [
        {
          "output_type": "stream",
          "text": [
            "M.Iman Rahmanda_1101180335\n",
            "[324 209 331 500 556 536 538 413 348 218 409 653 336 660 527 290 586 618\n",
            " 481 270 285 539 619 621 602 284 650 626 370 516 311 562 429 248 388 464\n",
            " 427 581 230 203 282 349 445 521 678 384 274 530 223 397 636 354 584 358\n",
            " 202 696 538 621 566 279 506 488 250 326 596 238 394 527 353 245 623 419\n",
            " 625 531 655 304 467 463 455 304 663 245 279 573 433 255 651 372 551 676\n",
            " 542 409 554 562 320 315 256 374 450 495 224 333 669 466 658 634 452 472\n",
            " 361 406 616 507 651 303 497 297 355 534 642 425 548 616 214 544 426 554\n",
            " 382 379 409 533 216 340 239 602 314 528 583 600 539 380 465 226 270 249\n",
            " 251 427 430 212 239 519 551 332 351 686 353 212 516 456 449 674 412 626\n",
            " 567 434 377 295 360 545 632 209 348 448 554 261 605 407 678 462 479 286\n",
            " 524 552 271 321 554 513 588 616 495 370 548 649 648 541 294 616 346 295\n",
            " 501 661]\n"
          ],
          "name": "stdout"
        }
      ]
    },
    {
      "cell_type": "code",
      "metadata": {
        "colab": {
          "base_uri": "https://localhost:8080/"
        },
        "id": "RReErsWLab4e",
        "outputId": "5aca5791-4edc-4ea2-f0f1-deb0b101bcf1"
      },
      "source": [
        "print (\"M.Iman Rahmanda_1101180335\")\r\n",
        "GrafikUrban=cos(freku,loc,tower,user,D)\r\n",
        "print(GrafikUrban)"
      ],
      "execution_count": 4,
      "outputs": [
        {
          "output_type": "stream",
          "text": [
            "M.Iman Rahmanda_1101180335\n",
            "[176.43626138 170.26072435 176.73735273 182.54778096 184.04317869\n",
            " 183.52714159 183.57960436 179.85504867 177.44284933 170.85461155\n",
            " 179.71795525 186.30837014 176.94854466 186.45856755 183.2886107\n",
            " 174.87462457 184.78343154 185.53237803 182.00206845 173.86803663\n",
            " 174.62964035 183.60576266 185.55515287 185.60059238 185.16288176\n",
            " 174.58012804 186.24350631 185.713554   178.30634309 182.99147866\n",
            " 175.85942145 184.19437411 180.39045706 172.67080204 178.97547226\n",
            " 181.49520734 180.3246334  184.66272611 171.60941197 169.85041658\n",
            " 174.48057824 177.48326897 180.90625794 183.12731614 186.83759232\n",
            " 178.82949958 174.07519091 183.36857064 171.17404105 179.29848294\n",
            " 185.9367954  177.68364557 184.73527342 177.84191957 169.78085477\n",
            " 187.20668516 183.57960436 185.60059238 184.29427692 174.32992186\n",
            " 182.71580964 182.20558832 172.78394512 176.5229462  185.02178304\n",
            " 172.09103965 179.19163359 183.2886107  177.64379763 172.49936498\n",
            " 185.64588579 180.05821908 185.69103403 183.3951234  186.35144736\n",
            " 175.53874529 181.58598899 181.4648163  181.21929832 175.53874529\n",
            " 186.52245082 172.49936498 174.32992186 184.46741986 180.52118874\n",
            " 173.06288963 186.26516079 178.38227987 183.91593088 186.79597859\n",
            " 183.68394734 179.71795525 183.99241742 184.19437411 176.26127482\n",
            " 176.03943972 173.11802175 178.45780947 181.06364771 182.40620954\n",
            " 171.23706683 176.82220984 186.64935472 181.5557934  186.41581717\n",
            " 185.89242926 181.12611449 181.73600358 177.95946883 179.61425242\n",
            " 185.48671757 182.74362058 186.26516079 175.4923326  182.46300896\n",
            " 175.21059846 177.72338111 183.4744827  186.06906151 180.25850071\n",
            " 183.83902675 185.48671757 170.59374784 183.73583041 180.29160587\n",
            " 183.99241742 178.75594203 178.64488045 179.71795525 183.44807925\n",
            " 170.72478356 177.11524764 172.15010153 185.16288176 175.99465037\n",
            " 183.31531448 184.71113247 185.11600572 183.60576266 178.68199836\n",
            " 181.52553294 171.36227866 173.86803663 172.72748718 172.84017768\n",
            " 180.3246334  180.42325391 170.46148173 172.15010153 183.07313824\n",
            " 183.91593088 176.77984519 177.56376198 187.00282867 177.64379763\n",
            " 170.46148173 182.99147866 181.25022312 181.03231012 186.75424156\n",
            " 179.8209002  185.713554   184.31914231 180.55368296 178.57034992\n",
            " 175.11542082 177.92039464 183.76170046 185.84792294 170.26072435\n",
            " 177.44284933 181.00090267 183.99241742 173.39049132 185.23290462\n",
            " 179.64890493 186.83759232 181.43435956 181.94337571 174.67897923\n",
            " 183.20819429 183.94147257 173.9201115  176.30522567 183.99241742\n",
            " 182.90934294 184.83142558 185.48671757 182.40620954 178.30634309\n",
            " 183.83902675 186.22181849 186.20009722 183.65793397 175.06758974\n",
            " 185.48671757 177.36166041 175.11542082 182.5759253  186.47989418]\n"
          ],
          "name": "stdout"
        }
      ]
    },
    {
      "cell_type": "code",
      "metadata": {
        "colab": {
          "base_uri": "https://localhost:8080/"
        },
        "id": "w1jTKncMab8W",
        "outputId": "6baa346d-8ebe-47d0-ab72-612f3971b2a7"
      },
      "source": [
        "print (\"M.Iman Rahmanda_1101180335\")\r\n",
        "D_sorting=D[np.argsort(D)]\r\n",
        "Urban_sorting=GrafikUrban[np.argsort(D)]"
      ],
      "execution_count": 5,
      "outputs": [
        {
          "output_type": "stream",
          "text": [
            "M.Iman Rahmanda_1101180335\n"
          ],
          "name": "stdout"
        }
      ]
    },
    {
      "cell_type": "code",
      "metadata": {
        "colab": {
          "base_uri": "https://localhost:8080/"
        },
        "id": "EBZDuTbgab-L",
        "outputId": "24343b07-b3dd-4347-c47b-10af28659401"
      },
      "source": [
        "print (\"M.Iman Rahmanda_1101180335\")\r\n",
        "freku=1800 #MHz\r\n",
        "loc='suburban'\r\n",
        "tower=80 #m\r\n",
        "user=1.5 #m\r\n",
        "Dmin=200 #m\r\n",
        "Dmax=700 #m\r\n",
        "N=200 #titik\r\n",
        "A=np.random.randint(Dmin,Dmax,N)\r\n",
        "print(A)"
      ],
      "execution_count": 6,
      "outputs": [
        {
          "output_type": "stream",
          "text": [
            "M.Iman Rahmanda_1101180335\n",
            "[419 216 255 680 444 620 433 433 366 566 490 472 583 641 492 511 374 420\n",
            " 302 457 388 225 245 400 486 584 570 365 453 276 257 318 383 264 679 583\n",
            " 411 292 224 684 532 621 307 387 536 207 274 460 559 591 331 528 407 478\n",
            " 207 483 646 344 512 217 670 659 697 580 651 694 202 674 467 469 427 633\n",
            " 381 359 601 549 309 234 358 493 669 390 415 557 645 233 509 562 580 444\n",
            " 226 289 354 398 477 549 330 656 301 284 695 354 442 406 646 662 393 622\n",
            " 466 276 573 669 574 350 615 289 304 452 648 692 374 406 336 251 503 533\n",
            " 332 551 426 421 670 461 234 574 526 312 460 349 578 412 676 240 362 488\n",
            " 422 612 619 495 379 681 632 236 260 374 673 608 374 581 494 487 482 265\n",
            " 274 279 686 637 592 470 337 371 568 663 445 371 390 686 518 454 263 201\n",
            " 627 346 280 289 240 511 658 544 215 452 394 690 265 517 273 406 458 573\n",
            " 230 513]\n"
          ],
          "name": "stdout"
        }
      ]
    },
    {
      "cell_type": "code",
      "metadata": {
        "colab": {
          "base_uri": "https://localhost:8080/"
        },
        "id": "wzlVXWbsab__",
        "outputId": "7771eddf-e35b-4968-cdaf-dafee6270350"
      },
      "source": [
        "print (\"M.Iman Rahmanda_1101180335\")\r\n",
        "Grafiksuburban=cos(freku,loc,tower,user,A)\r\n",
        "print(Grafiksuburban)"
      ],
      "execution_count": 7,
      "outputs": [
        {
          "output_type": "stream",
          "text": [
            "M.Iman Rahmanda_1101180335\n",
            "[176.49067697 167.15724145 169.49534753 183.31154137 177.30702575\n",
            " 182.01034884 176.95364664 176.95364664 174.5856882  180.72673482\n",
            " 178.69565872 178.16846148 181.14359037 182.47956112 178.75303655\n",
            " 179.28677639 174.89026737 176.52425562 171.87822438 177.71353806\n",
            " 175.40793015 167.73226976 168.93182288 175.83698578 178.58019711\n",
            " 181.16773131 180.82593408 174.54714854 177.58970221 170.61009462\n",
            " 169.60539682 172.60541745 175.22522671 169.98393654 183.29081107\n",
            " 181.14359037 176.21912664 171.40389547 167.66952473 183.39415884\n",
            " 179.8540841  182.03305028 172.10953069 175.37157855 179.95959949\n",
            " 166.55773661 170.50764881 177.8057057  180.55143715 181.33556932\n",
            " 173.16981063 179.74777237 176.08136282 178.34639527 166.55773661\n",
            " 178.49297554 182.58901184 173.71245873 179.31431548 167.22230502\n",
            " 183.10285256 182.86966647 183.65936738 181.0709183  182.69761869\n",
            " 183.5986071  166.21331267 183.18669946 178.01844688 178.07864457\n",
            " 176.7570913  182.30265157 175.15147661 174.31366965 181.57192113\n",
            " 180.29716603 172.20100008 168.28474204 174.27437747 178.78163805\n",
            " 183.08181262 175.48035312 176.35555615 180.50094879 182.56718963\n",
            " 168.22441545 179.23153618 180.626832   181.0709183  177.30702575\n",
            " 167.79473655 171.25842529 174.11610347 175.76637793 178.31689528\n",
            " 180.29716603 173.12718961 182.80539456 171.83150381 171.01258593\n",
            " 183.61888966 174.11610347 177.24343089 176.04671031 182.58901184\n",
            " 182.93364647 175.58829417 182.05571519 177.98825129 170.61009462\n",
            " 180.89987776 183.08181262 180.92443964 173.95603087 181.89628962\n",
            " 171.25842529 171.97120318 177.55857239 182.63255512 183.55795415\n",
            " 174.89026737 176.04671031 173.38100255 169.27263557 179.06450373\n",
            " 179.88053714 173.21230308 180.34838877 176.72406376 176.55775442\n",
            " 183.10285256 177.83629472 168.28474204 180.92443964 179.6943141\n",
            " 172.33710005 177.8057057  173.91572687 181.02226113 176.25335809\n",
            " 183.22843649 168.6413747  174.43089283 178.63804621 176.59117374\n",
            " 181.82740812 181.98761076 178.83866743 175.07733835 183.33224121\n",
            " 182.28038084 168.40462564 169.7688753  174.89026737 183.16578447\n",
            " 181.73503902 174.89026737 181.095184   178.81018161 178.60915136\n",
            " 178.46378126 170.0371927  170.50764881 170.76237975 183.43528657\n",
            " 182.39138407 181.35938376 178.10864722 173.42286362 174.77682055\n",
            " 180.77642177 182.95490872 177.33871583 174.77682055 175.48035312\n",
            " 183.43528657 179.47842884 177.62076338 169.93047826 166.14340564\n",
            " 182.16849591 173.79411831 170.8127778  171.25842529 168.6413747\n",
            " 179.28677639 182.84827507 180.1682883  167.09187596 177.55857239\n",
            " 175.62409149 183.51718353 170.0371927  179.45120905 170.45614514\n",
            " 176.04671031 177.74432766 180.89987776 168.04186986 179.34180083]\n"
          ],
          "name": "stdout"
        }
      ]
    },
    {
      "cell_type": "code",
      "metadata": {
        "colab": {
          "base_uri": "https://localhost:8080/"
        },
        "id": "cTSAlrjpacBw",
        "outputId": "984cae18-8a20-4ee2-e8e9-83b5fe7bc2bd"
      },
      "source": [
        "print (\"M.Iman Rahmanda_1101180335\")\r\n",
        "A_sorting=A[np.argsort(A)]\r\n",
        "suburban_sorting=Grafiksuburban[np.argsort(A)]"
      ],
      "execution_count": 8,
      "outputs": [
        {
          "output_type": "stream",
          "text": [
            "M.Iman Rahmanda_1101180335\n"
          ],
          "name": "stdout"
        }
      ]
    },
    {
      "cell_type": "code",
      "metadata": {
        "colab": {
          "base_uri": "https://localhost:8080/"
        },
        "id": "2DrNVXKBacDo",
        "outputId": "e788fa6d-87de-4eaf-ac60-1d4d12d9855a"
      },
      "source": [
        "print (\"M.Iman Rahmanda_1101180335\")\r\n",
        "freku=1800 #MHz\r\n",
        "loc='open'\r\n",
        "tower=80 #m\r\n",
        "user=1.5 #m\r\n",
        "Dmin=200 #m\r\n",
        "Dmax=700 #m\r\n",
        "N=200 #titik\r\n",
        "B=np.random.randint(Dmin,Dmax,N)\r\n",
        "print(B)"
      ],
      "execution_count": 9,
      "outputs": [
        {
          "output_type": "stream",
          "text": [
            "M.Iman Rahmanda_1101180335\n",
            "[311 277 290 270 626 615 412 389 525 520 218 244 550 210 353 595 270 573\n",
            " 557 351 538 390 332 265 653 326 548 414 338 224 653 266 574 665 322 581\n",
            " 240 260 525 658 302 522 277 615 523 319 669 481 311 584 678 395 667 409\n",
            " 682 291 378 366 381 569 525 544 455 613 250 645 289 519 650 504 432 438\n",
            " 275 265 649 368 671 645 442 553 464 657 290 501 337 382 548 214 613 615\n",
            " 478 554 237 653 570 423 528 590 210 686 653 558 413 402 479 371 434 295\n",
            " 659 475 300 599 490 419 625 321 447 382 276 310 439 348 647 388 484 336\n",
            " 436 527 490 310 585 278 292 656 232 507 396 596 536 273 635 586 212 601\n",
            " 202 458 626 221 625 450 275 271 589 315 315 305 456 634 378 632 427 429\n",
            " 421 245 279 501 624 431 432 572 348 230 584 426 392 527 321 470 314 282\n",
            " 231 532 335 506 398 321 468 465 262 255 496 610 551 528 631 685 436 552\n",
            " 603 480]\n"
          ],
          "name": "stdout"
        }
      ]
    },
    {
      "cell_type": "code",
      "metadata": {
        "colab": {
          "base_uri": "https://localhost:8080/"
        },
        "id": "yHO5JwkracFN",
        "outputId": "b0c16d71-a38a-49c9-f6dd-eb7edf47aea8"
      },
      "source": [
        "print (\"M.Iman Rahmanda_1101180335\")\r\n",
        "Grafikopen=cos(freku,loc,tower,user,B)\r\n",
        "print(Grafikopen)"
      ],
      "execution_count": 10,
      "outputs": [
        {
          "output_type": "stream",
          "text": [
            "M.Iman Rahmanda_1101180335\n",
            "[172.69047901 171.05963914 171.70568212 170.69909418 182.54461155\n",
            " 182.29488928 176.65195775 175.84278784 180.06610836 179.9313108\n",
            " 167.6856691  169.27281004 180.72140035 167.15901945 174.47485519\n",
            " 181.82918612 170.69909418 181.29847742 180.89954845 174.39481953\n",
            " 180.41066192 175.87895279 173.61090274 170.43579236 183.1394277\n",
            " 173.35400375 180.67008431 176.72017211 173.86320031 168.06812439\n",
            " 183.1394277  170.48884793 181.3230393  183.39593684 173.18009738\n",
            " 181.49378367 169.03997436 170.16747496 180.06610836 183.24687473\n",
            " 172.27682404 179.98538471 171.05963914 182.29488928 180.01234402\n",
            " 173.04824396 183.48041228 178.833126   172.69047901 181.56633097\n",
            " 183.66864988 176.05839773 183.43823788 176.54901281 183.75151034\n",
            " 171.7541718  175.43872203 174.98428787 175.55007627 181.19979934\n",
            " 180.06610836 180.56688796 178.05035588 182.24900573 169.61500267\n",
            " 182.96578929 171.65702495 179.9041958  183.07456387 179.49108004\n",
            " 177.31967695 177.51397296 170.95756451 170.43579236 183.05287604\n",
            " 175.06105229 183.52246078 182.96578929 177.64203055 180.79802558\n",
            " 178.32626489 183.22545079 171.70568212 179.40698285 173.82146328\n",
            " 175.58699959 180.67008431 167.4248054  182.24900573 182.29488928\n",
            " 178.74499493 180.82347498 168.86278665 183.1394277  181.22453374\n",
            " 177.02311363 180.14637203 181.71031421 167.15901945 183.83388623\n",
            " 183.1394277  180.92481525 176.68610622 176.30584114 178.77443326\n",
            " 175.17542021 177.38474052 171.94647837 183.26826614 178.65630898\n",
            " 172.18322743 181.92356662 179.09425838 176.88927663 182.52209158\n",
            " 173.13628323 177.80048259 175.58699959 171.00869428 172.64511267\n",
            " 177.54609666 174.27390688 183.00939997 175.80652981 178.92070911\n",
            " 173.77960221 177.44950494 180.11966826 179.09425838 172.64511267\n",
            " 181.59043061 171.11040041 171.80249513 183.20399422 168.56242905\n",
            " 179.57467814 176.09401402 181.8528406  180.35819915 170.8547448\n",
            " 182.74568735 181.6144891  167.29253929 181.97052079 166.61191233\n",
            " 178.14292732 182.54461155 167.87819471 182.52209158 177.89470526\n",
            " 170.95756451 170.75116906 181.68641898 172.87049728 172.87049728\n",
            " 172.41606311 178.08128067 182.72348681 175.43872203 182.6789805\n",
            " 177.15569096 177.22151462 176.95635408 169.33042254 171.16097942\n",
            " 179.40698285 182.49953555 177.28703212 177.31967695 181.27387263\n",
            " 174.27390688 168.44046952 181.56633097 177.12266342 175.95100531\n",
            " 180.11966826 173.13628323 178.50724688 172.82570793 171.3116358\n",
            " 168.50158128 180.25268377 173.73761638 179.5468672  176.16497759\n",
            " 173.13628323 178.44717754 178.3565905  170.275416   169.89394719\n",
            " 179.26569543 182.17989895 180.74698843 180.14637203 182.65667449\n",
            " 183.81333738 177.44950494 180.77253012 182.01731897 178.8038102 ]\n"
          ],
          "name": "stdout"
        }
      ]
    },
    {
      "cell_type": "code",
      "metadata": {
        "colab": {
          "base_uri": "https://localhost:8080/"
        },
        "id": "BYGSd4Bna6-k",
        "outputId": "e94eb9da-cdab-4c19-920e-85cafb8d32cf"
      },
      "source": [
        "print (\"M.Iman Rahmanda_1101180335\")\r\n",
        "B_sorting=B[np.argsort(B)]\r\n",
        "open_sorting=Grafikopen[np.argsort(B)]"
      ],
      "execution_count": 11,
      "outputs": [
        {
          "output_type": "stream",
          "text": [
            "M.Iman Rahmanda_1101180335\n"
          ],
          "name": "stdout"
        }
      ]
    },
    {
      "cell_type": "code",
      "metadata": {
        "colab": {
          "base_uri": "https://localhost:8080/",
          "height": 311
        },
        "id": "GAHpaRVPacGx",
        "outputId": "c324f25a-8e25-4b83-a93b-4b48e23245ee"
      },
      "source": [
        "print (\"M.Iman Rahmanda_1101180335\")\r\n",
        "plt.figure()\r\n",
        "plt.plot(D_sorting,Urban_sorting,'r', label='Urban')\r\n",
        "plt.plot(B_sorting,open_sorting,'g', label='Open')\r\n",
        "plt.plot(A_sorting,suburban_sorting,'b', label='Suburban')\r\n",
        "plt.legend()\r\n",
        "plt.title('FREKUENSI 1800 MHZ (GAMBAR CONTOH)')\r\n",
        "plt.xlabel('Jarak (m)')\r\n",
        "plt.ylabel('Path Loss (dB)')\r\n",
        "plt.show()"
      ],
      "execution_count": 12,
      "outputs": [
        {
          "output_type": "stream",
          "text": [
            "M.Iman Rahmanda_1101180335\n"
          ],
          "name": "stdout"
        },
        {
          "output_type": "display_data",
          "data": {
            "image/png": "[encoded data removed]",
            "text/plain": [
              "<Figure size 432x288 with 1 Axes>"
            ]
          },
          "metadata": {
            "tags": [],
            "needs_background": "light"
          }
        }
      ]
    },
    {
      "cell_type": "code",
      "metadata": {
        "colab": {
          "base_uri": "https://localhost:8080/"
        },
        "id": "HX9fMcTHacIc",
        "outputId": "9852b5dc-368f-4951-d797-523e4b369d0a"
      },
      "source": [
        "print (\"M.Iman Rahmanda_1101180335\")\r\n",
        "freku=1800 #MHz\r\n",
        "loc='urban'\r\n",
        "tower=80 #m\r\n",
        "user=1.5 #m\r\n",
        "Dmin=200 #m\r\n",
        "Dmax=700 #m\r\n",
        "N=200 #titik\r\n",
        "P=np.random.randint(Dmin,Dmax,N)\r\n",
        "print(P)"
      ],
      "execution_count": 13,
      "outputs": [
        {
          "output_type": "stream",
          "text": [
            "M.Iman Rahmanda_1101180335\n",
            "[299 453 403 317 472 668 375 464 670 581 336 429 448 635 542 524 301 672\n",
            " 410 471 600 422 203 571 535 231 588 410 551 319 371 496 699 643 627 241\n",
            " 635 517 426 415 442 697 431 550 284 578 629 695 235 294 449 482 286 258\n",
            " 306 314 222 551 259 567 562 537 434 427 483 361 281 411 693 489 673 568\n",
            " 615 264 487 303 648 692 443 636 469 286 241 250 259 538 568 637 297 219\n",
            " 267 376 436 376 296 600 349 451 443 453 640 597 580 529 228 312 681 560\n",
            " 498 630 525 599 640 531 565 258 287 275 462 436 463 400 471 598 553 405\n",
            " 417 353 346 593 504 597 661 324 273 369 683 491 303 399 583 339 516 524\n",
            " 312 600 627 378 521 556 431 620 617 612 398 357 581 504 476 682 338 693\n",
            " 372 642 665 545 680 239 490 521 632 251 452 437 308 518 261 290 317 462\n",
            " 516 528 496 202 285 613 383 599 222 319 290 220 587 578 474 222 576 391\n",
            " 303 681]\n"
          ],
          "name": "stdout"
        }
      ]
    },
    {
      "cell_type": "code",
      "metadata": {
        "colab": {
          "base_uri": "https://localhost:8080/"
        },
        "id": "q0FpMX9yacKW",
        "outputId": "57f87d63-1b90-4aa5-ed24-01aa49563853"
      },
      "source": [
        "print (\"M.Iman Rahmanda_1101180335\")\r\n",
        "GrafikUrban1=cos(freku,loc,tower,user,P)\r\n",
        "print(GrafikUrban1)"
      ],
      "execution_count": 14,
      "outputs": [
        {
          "output_type": "stream",
          "text": [
            "M.Iman Rahmanda_1101180335\n",
            "[175.30513732 181.15724431 179.50978046 176.12859342 181.73600358\n",
            " 186.62828331 178.49542295 181.49520734 186.67039466 184.66272611\n",
            " 176.94854466 180.39045706 181.00090267 185.91462979 183.68394734\n",
            " 183.20819429 175.39904592 186.7123805  179.75235389 181.7061282\n",
            " 185.11600572 180.15871585 169.85041658 184.41816723 183.50083675\n",
            " 171.67052372 184.83142558 179.75235389 183.91593088 176.2171864\n",
            " 178.34436265 182.43463788 187.26727123 186.09098562 185.73603802\n",
            " 172.26748753 185.91462979 183.01875116 180.29160587 179.92309826\n",
            " 180.81097299 187.22690949 180.45597456 183.89034279 174.58012804\n",
            " 184.58980323 185.78089869 187.18643176 171.91235348 175.06758974\n",
            " 181.03231012 182.03132336 174.67897923 173.22764283 175.63111439\n",
            " 175.99465037 171.11073201 183.91593088 173.28213511 184.31914231\n",
            " 184.19437411 183.5533974  180.55368296 180.3246334  182.06051765\n",
            " 177.95946883 174.43053827 179.78666874 187.14583739 182.23442403\n",
            " 186.73332658 184.34396388 185.46383172 173.55147864 182.17669346\n",
            " 175.4923326  186.20009722 187.12549625 180.84280631 185.9367954\n",
            " 181.64618668 174.67897923 172.26748753 172.78394512 173.28213511\n",
            " 183.57960436 184.34396388 185.95892618 175.21059846 170.91907957\n",
            " 173.71064686 178.53293625 180.61844739 178.53293625 175.16309002\n",
            " 185.11600572 177.48326897 181.09491573 180.84280631 181.15724431\n",
            " 186.02511066 185.04539786 184.63846041 183.34196773 171.48638728\n",
            " 175.90464216 186.89978332 184.14415574 182.49132302 185.80327556\n",
            " 183.2350508  185.09250907 186.02511066 183.3951234  184.26936756\n",
            " 173.22764283 174.72814591 174.12650695 181.43435956 180.61844739\n",
            " 181.4648163  179.40452789 181.7061282  185.06897316 183.96696802\n",
            " 179.57951445 179.99082068 177.64379763 177.36166041 184.95070011\n",
            " 182.66002249 185.04539786 186.47989418 176.43626138 174.02368724\n",
            " 178.26822064 186.94109196 182.29191895 175.4923326  179.3692682\n",
            " 184.71113247 177.07375648 182.99147866 183.20819429 175.90464216\n",
            " 185.11600572 185.73603802 178.60766448 183.12731614 184.04317869\n",
            " 180.45597456 185.57789095 185.5095663  185.39495023 179.33392003\n",
            " 177.80251748 184.66272611 182.66002249 181.85487549 186.92045278\n",
            " 177.03214275 187.14583739 178.38227987 186.06906151 186.56487928\n",
            " 183.76170046 186.87908348 172.15010153 182.26320082 183.12731614\n",
            " 185.84792294 172.84017768 181.12611449 180.65071828 175.72288173\n",
            " 183.04597095 173.39049132 174.87462457 176.12859342 181.43435956\n",
            " 182.99147866 183.31531448 182.43463788 169.78085477 174.62964035\n",
            " 185.41794817 178.79276882 185.09250907 171.11073201 176.2171864\n",
            " 174.87462457 170.98325388 184.807449   184.58980323 181.79556493\n",
            " 171.11073201 184.5409774  179.08396756 175.4923326  186.89978332]\n"
          ],
          "name": "stdout"
        }
      ]
    },
    {
      "cell_type": "code",
      "metadata": {
        "colab": {
          "base_uri": "https://localhost:8080/"
        },
        "id": "uaikuiSracMD",
        "outputId": "b3f58500-fc1d-4070-8d03-c62895ef143a"
      },
      "source": [
        "print (\"M.Iman Rahmanda_1101180335\")\r\n",
        "P_sorting=P[np.argsort(P)]\r\n",
        "Urban_sorting1=GrafikUrban1[np.argsort(P)]"
      ],
      "execution_count": 15,
      "outputs": [
        {
          "output_type": "stream",
          "text": [
            "M.Iman Rahmanda_1101180335\n"
          ],
          "name": "stdout"
        }
      ]
    },
    {
      "cell_type": "code",
      "metadata": {
        "colab": {
          "base_uri": "https://localhost:8080/"
        },
        "id": "JpLNqg5FacNy",
        "outputId": "8da23a35-9c40-402d-d1e2-00999405525f"
      },
      "source": [
        "print (\"M.Iman Rahmanda_1101180335\")\r\n",
        "freku=900 #MHz\r\n",
        "loc='urban'\r\n",
        "tower=80 #m\r\n",
        "user=1.5 #m\r\n",
        "Dmin=200 #m\r\n",
        "Dmax=700 #m\r\n",
        "N=200 #titik\r\n",
        "K=np.random.randint(Dmin,Dmax,N)\r\n",
        "print(K)"
      ],
      "execution_count": 16,
      "outputs": [
        {
          "output_type": "stream",
          "text": [
            "M.Iman Rahmanda_1101180335\n",
            "[428 241 350 446 597 697 667 300 522 481 314 265 664 294 651 311 524 326\n",
            " 476 509 224 514 206 376 373 633 408 276 470 487 200 699 336 687 246 413\n",
            " 422 421 618 578 293 240 356 512 301 699 693 500 220 605 673 437 384 275\n",
            " 471 222 409 284 680 354 207 572 538 324 244 305 463 214 532 279 673 686\n",
            " 312 317 538 409 478 374 224 692 416 279 286 276 320 438 442 521 331 524\n",
            " 394 567 431 284 306 574 567 373 555 449 613 291 458 385 653 239 612 448\n",
            " 439 692 217 440 271 492 695 245 363 402 650 447 300 272 648 529 418 419\n",
            " 231 297 436 245 614 466 308 208 585 285 639 329 424 286 200 221 357 393\n",
            " 333 407 439 353 488 572 328 402 376 649 662 550 261 692 379 360 679 418\n",
            " 420 374 296 686 333 242 602 698 205 553 604 484 505 204 648 582 306 326\n",
            " 355 213 309 469 307 415 374 410 650 485 232 326 445 427 214 206 448 694\n",
            " 488 492]\n"
          ],
          "name": "stdout"
        }
      ]
    },
    {
      "cell_type": "code",
      "metadata": {
        "colab": {
          "base_uri": "https://localhost:8080/"
        },
        "id": "i-UYPsmnacPp",
        "outputId": "8100d926-8637-427a-d420-186ed6a17476"
      },
      "source": [
        "print (\"M.Iman Rahmanda_1101180335\")\r\n",
        "GrafikUrban2=cos(freku,loc,tower,user,K)\r\n",
        "print(GrafikUrban2)"
      ],
      "execution_count": 17,
      "outputs": [
        {
          "output_type": "stream",
          "text": [
            "M.Iman Rahmanda_1101180335\n",
            "[170.5639225  162.47382635 167.72991179 171.14421572 175.25173668\n",
            " 177.43324831 176.81351915 165.5585087  173.36066598 172.20840727\n",
            " 166.2009892  163.81107362 176.75001985 165.27392857 176.47149961\n",
            " 166.06576028 173.41453311 166.72928502 172.06121432 173.00541711\n",
            " 161.44340565 173.14311358 160.26340318 168.73927508 168.62643412\n",
            " 176.0765325  169.88981122 164.38397555 171.88252815 172.38303229\n",
            " 159.84703087 177.47361005 167.15488348 177.22968642 162.76308164\n",
            " 170.06138749 170.36505467 170.33163535 175.73871685 174.79614206\n",
            " 165.22593453 162.41525563 167.96934369 173.08819641 165.60538474\n",
            " 177.47361005 177.35217621 172.75411978 161.18959271 175.43924345\n",
            " 176.9396654  170.8570571  169.0358384  164.33284578 171.91246703\n",
            " 161.31707084 169.92429407 164.78646686 177.0854223  167.8899844\n",
            " 160.33161754 174.6491539  173.78594319 166.64260021 162.6480913\n",
            " 165.79134437 171.67115513 160.80008667 173.62796503 164.53626068\n",
            " 176.9396654  177.2091675  166.11098098 166.33493224 173.78594319\n",
            " 169.92429407 172.1202762  168.6641483  161.44340565 177.33183507\n",
            " 170.16333899 164.53626068 164.88531806 164.38397555 166.46761364\n",
            " 170.88925423 171.01731182 173.33365497 166.94369156 173.41453311\n",
            " 169.39797242 174.52548113 170.66231339 164.78646686 165.83745321\n",
            " 174.69832057 174.52548113 168.62643412 174.22415975 171.23864895\n",
            " 175.624287   165.12945307 171.51820859 169.07247363 176.51470897\n",
            " 162.35644036 175.60128905 171.20724149 170.92137793 177.33183507\n",
            " 160.99618595 170.95342854 164.12645032 172.52691748 177.39277059\n",
            " 162.70570381 168.24363237 169.68112241 176.44984513 171.17576385\n",
            " 165.5585087  164.17833339 176.40643605 173.54830655 170.23089901\n",
            " 170.2645579  161.87686255 165.41693728 170.82478621 162.70570381\n",
            " 175.64724745 171.76213222 165.92922056 160.39950315 174.96571188\n",
            " 164.83597917 176.20942252 166.85832016 170.43165639 164.88531806\n",
            " 159.84703087 161.25347598 168.00885631 169.3621751  167.02854867\n",
            " 169.85524375 170.92137793 167.85013646 172.41192714 174.6491539\n",
            " 166.81543965 169.68112241 168.73927508 176.42815731 176.7075274\n",
            " 174.09668161 163.59683014 177.33183507 168.85121927 168.12673346\n",
            " 177.064692   170.23089901 170.29813655 168.6641483  165.36942885\n",
            " 177.2091675  167.02854867 162.53215454 175.36922058 177.45344364\n",
            " 160.19485688 174.17330685 175.41594115 172.29599038 172.8942825\n",
            " 160.12597538 176.40643605 174.89328891 165.83745321 166.72928502\n",
            " 167.92971993 160.73410885 165.97488101 171.8525255  165.88341161\n",
            " 170.12943708 168.6641483  169.95869272 176.44984513 172.32506415\n",
            " 161.93771032 166.72928502 171.11259676 170.53097223 160.80008667\n",
            " 160.26340318 171.20724149 177.37248802 172.41192714 172.52691748]\n"
          ],
          "name": "stdout"
        }
      ]
    },
    {
      "cell_type": "code",
      "metadata": {
        "colab": {
          "base_uri": "https://localhost:8080/"
        },
        "id": "mriKav2dacRo",
        "outputId": "d36c6fa7-0ac9-400d-e32a-db588a2d24e0"
      },
      "source": [
        "print (\"M.Iman Rahmanda_1101180335\")\r\n",
        "K_sorting=K[np.argsort(K)]\r\n",
        "Urban_sorting2=GrafikUrban2[np.argsort(K)]"
      ],
      "execution_count": 18,
      "outputs": [
        {
          "output_type": "stream",
          "text": [
            "M.Iman Rahmanda_1101180335\n"
          ],
          "name": "stdout"
        }
      ]
    },
    {
      "cell_type": "code",
      "metadata": {
        "colab": {
          "base_uri": "https://localhost:8080/"
        },
        "id": "2z_93CU2acTX",
        "outputId": "0b243777-9a41-457b-a99e-9a9a5314f003"
      },
      "source": [
        "print (\"M.Iman Rahmanda_1101180335\")\r\n",
        "freku=700 #MHz\r\n",
        "loc='urban'\r\n",
        "tower=80 #m\r\n",
        "user=1.5 #m\r\n",
        "Dmin=200 #m\r\n",
        "Dmax=700 #m\r\n",
        "N=200 #titik\r\n",
        "R=np.random.randint(Dmin,Dmax,N)\r\n",
        "print(R)"
      ],
      "execution_count": 19,
      "outputs": [
        {
          "output_type": "stream",
          "text": [
            "M.Iman Rahmanda_1101180335\n",
            "[528 328 308 463 525 233 560 575 336 570 245 296 589 468 224 675 325 482\n",
            " 461 443 292 474 623 273 620 438 410 253 598 228 598 311 693 566 339 535\n",
            " 603 427 349 677 278 583 364 494 522 274 321 558 452 240 558 423 612 520\n",
            " 432 464 460 592 593 527 699 244 634 636 307 607 298 244 216 400 548 489\n",
            " 314 661 627 416 207 687 658 502 302 536 659 549 565 260 242 475 690 422\n",
            " 277 602 672 256 694 539 536 544 266 237 518 615 564 206 398 208 210 426\n",
            " 351 218 215 445 362 287 578 422 663 434 370 340 585 497 238 514 591 686\n",
            " 235 579 511 684 354 220 575 600 698 676 479 473 668 370 505 310 220 258\n",
            " 218 640 240 674 563 467 317 308 443 491 613 327 302 524 347 225 622 461\n",
            " 608 290 630 478 271 510 490 304 465 424 653 322 654 537 255 403 216 520\n",
            " 244 506 263 425 527 510 230 699 447 476 326 694 550 691 304 477 333 458\n",
            " 347 517]\n"
          ],
          "name": "stdout"
        }
      ]
    },
    {
      "cell_type": "code",
      "metadata": {
        "colab": {
          "base_uri": "https://localhost:8080/"
        },
        "id": "lR0O3dZlacVL",
        "outputId": "c8472291-86fb-4642-ca4c-aed26d9bde84"
      },
      "source": [
        "print (\"M.Iman Rahmanda_1101180335\")\r\n",
        "GrafikUrban3=cos(freku,loc,tower,user,R)\r\n",
        "print(GrafikUrban3)"
      ],
      "execution_count": 20,
      "outputs": [
        {
          "output_type": "stream",
          "text": [
            "M.Iman Rahmanda_1101180335\n",
            "[170.67625698 163.97004333 163.08382424 168.82575881 170.59599331\n",
            " 159.15290006 171.50509824 171.87744338 164.30948716 171.75441869\n",
            " 159.86030749 162.52403253 172.21630393 168.97706249 158.59800934\n",
            " 174.13606804 163.84061298 169.39226587 168.76477933 168.20374882\n",
            " 162.33238008 169.15650744 173.0068283  161.38462975 172.93883345\n",
            " 168.04385791 167.1132964  160.31291631 172.42991566 158.84732978\n",
            " 172.42991566 163.22036396 174.5067799  171.65521943 164.43469899\n",
            " 170.86177926 172.54720392 167.68557591 164.84421148 174.17774333\n",
            " 161.64028536 172.07207498 165.43698776 169.73866622 170.51526966\n",
            " 161.43613342 163.66616818 171.4547002  168.487057   159.56985931\n",
            " 171.4547002  167.55299858 172.75589273 170.46119575 167.8495619\n",
            " 168.85614984 168.73419031 172.28786837 172.31164261 170.64955321\n",
            " 174.62821373 159.80269499 173.25337176 173.2977379  163.0380153\n",
            " 172.6403364  162.61888971 159.80269499 158.08572606 166.76547039\n",
            " 171.19996926 169.59536653 163.35559288 173.84083669 173.09698053\n",
            " 167.31794267 157.48622122 174.3842901  173.77675968 169.96495602\n",
            " 162.80670899 170.8880841  173.79815109 171.22565064 171.63031007\n",
            " 160.69735991 159.68675822 169.18619393 174.44566814 167.51965835\n",
            " 161.58952409 172.52382426 174.073323   160.47896425 174.52709171\n",
            " 170.96670516 170.8880841  171.09677291 161.01873288 159.3926716\n",
            " 170.40691345 172.82477423 171.60535659 157.41800686 166.69486254\n",
            " 157.55410684 157.6889044  167.65254837 164.92470448 158.21555405\n",
            " 158.02036057 168.26720045 165.35937744 162.08908841 171.95074574\n",
            " 167.51965835 173.88339333 167.91462547 165.6672856  164.47619015\n",
            " 172.12031556 169.82395147 159.45198216 170.29771727 172.26405393\n",
            " 174.36377118 159.27329599 171.97509533 170.21526101 174.32264345\n",
            " 165.04458808 158.34419639 171.87744338 172.47694822 174.60804732\n",
            " 174.1569211  169.30431821 169.12675824 173.98922581 165.6672856\n",
            " 170.04888619 163.17499762 158.34419639 160.58858533 158.21555405\n",
            " 173.38605316 159.56985931 174.11518407 171.58035882 168.94693149\n",
            " 163.48953593 163.08382424 168.20374882 169.65286146 172.77889068\n",
            " 163.92703188 162.80670899 170.56913679 164.76325587 158.66075437\n",
            " 172.9841998  168.76477933 172.66352363 162.23556707 173.16421806\n",
            " 169.27487988 161.28105401 170.18766798 169.62414333 162.89968779\n",
            " 168.88647544 167.58626007 173.66931265 163.70998233 173.69086772\n",
            " 170.91433991 160.42383214 166.87072297 158.08572606 170.46119575\n",
            " 159.80269499 170.07675215 160.85896287 167.61944322 170.64955321\n",
            " 170.18766798 158.97035447 174.62821373 168.33036754 169.215818\n",
            " 163.8838887  174.52709171 171.2512853  174.4660682  162.89968779\n",
            " 169.24537989 164.18315235 168.67281227 164.76325587 170.37969366]\n"
          ],
          "name": "stdout"
        }
      ]
    },
    {
      "cell_type": "code",
      "metadata": {
        "colab": {
          "base_uri": "https://localhost:8080/"
        },
        "id": "RYT7vgxaacW7",
        "outputId": "4999f18b-0c6c-4477-f66d-ec3b4da32a90"
      },
      "source": [
        "print (\"M.Iman Rahmanda_1101180335\")\r\n",
        "R_sorting=R[np.argsort(R)]\r\n",
        "Urban_sorting3=GrafikUrban3[np.argsort(R)]"
      ],
      "execution_count": 21,
      "outputs": [
        {
          "output_type": "stream",
          "text": [
            "M.Iman Rahmanda_1101180335\n"
          ],
          "name": "stdout"
        }
      ]
    },
    {
      "cell_type": "code",
      "metadata": {
        "colab": {
          "base_uri": "https://localhost:8080/",
          "height": 311
        },
        "id": "EBQJr6h_acYt",
        "outputId": "c8d0bb43-0c60-4404-b708-6ec822bd363e"
      },
      "source": [
        "print (\"M.Iman Rahmanda_1101180335\")\r\n",
        "plt.figure()\r\n",
        "plt.plot(P_sorting,Urban_sorting1,'k', label='1800 Mhz')\r\n",
        "plt.plot(K_sorting,Urban_sorting2,'b', label='900 Mhz')\r\n",
        "plt.plot(R_sorting,Urban_sorting3,'r', label='700 Mhz')\r\n",
        "plt.legend()\r\n",
        "plt.title('Model Urban (GAMBAR CONTOH)')\r\n",
        "plt.xlabel('Jarak (m)')\r\n",
        "plt.ylabel('Path Loss (dB)')\r\n",
        "plt.show()"
      ],
      "execution_count": 22,
      "outputs": [
        {
          "output_type": "stream",
          "text": [
            "M.Iman Rahmanda_1101180335\n"
          ],
          "name": "stdout"
        },
        {
          "output_type": "display_data",
          "data": {
            "image/png": "[encoded data removed]",
            "text/plain": [
              "<Figure size 432x288 with 1 Axes>"
            ]
          },
          "metadata": {
            "tags": [],
            "needs_background": "light"
          }
        }
      ]
    },
    {
      "cell_type": "code",
      "metadata": {
        "id": "uy0hwI4jbSMj"
      },
      "source": [
        ""
      ],
      "execution_count": 22,
      "outputs": []
    }
  ]
}