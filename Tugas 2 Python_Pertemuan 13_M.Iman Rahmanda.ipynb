{
  "nbformat": 4,
  "nbformat_minor": 0,
  "metadata": {
    "colab": {
      "name": "Untitled2.ipynb",
      "provenance": [],
      "authorship_tag": "ABX9TyPHt9XWYplKkNIkVoU2aBBA",
      "include_colab_link": true
    },
    "kernelspec": {
      "name": "python3",
      "display_name": "Python 3"
    }
  },
  "cells": [
    {
      "cell_type": "markdown",
      "metadata": {
        "id": "view-in-github",
        "colab_type": "text"
      },
      "source": [
        "<a href=\"https://colab.research.google.com/github/imanrahman52/Tugas_Pemrograman_Python/blob/main/Tugas%202%20Python_Pertemuan%2013_M.Iman%20Rahmanda.ipynb\" target=\"_parent\"><img src=\"https://colab.research.google.com/assets/colab-badge.svg\" alt=\"Open In Colab\"/></a>"
      ]
    },
    {
      "cell_type": "code",
      "metadata": {
        "id": "01Ps1y7maZsT"
      },
      "source": [
        "import numpy as np\r\n",
        "import matplotlib.pyplot as plt\r\n"
      ],
      "execution_count": 83,
      "outputs": []
    },
    {
      "cell_type": "code",
      "metadata": {
        "colab": {
          "base_uri": "https://localhost:8080/"
        },
        "id": "LMUsXOPzaWzV",
        "outputId": "ad64c1a4-871d-430f-ca8a-b7f0fe695c98"
      },
      "source": [
        "print (\"M.Iman Rahmanda_1101180335\")\r\n",
        "def cos(frek,tipe,ht,hr,d):\r\n",
        "    if frek in range(150,1501):\r\n",
        "        Ca=69.55\r\n",
        "        Cb=26.16\r\n",
        "    elif frek in range(1501,2001):\r\n",
        "        Ca=46.3\r\n",
        "        Cb=33.9\r\n",
        "    \r\n",
        "    if tipe=='urban' :\r\n",
        "        Cm=0\r\n",
        "    elif tipe=='suburban' :\r\n",
        "        Cm= -2*((np.log10((frek/28)**2))-5.4)\r\n",
        "    elif tipe=='open' :\r\n",
        "        Cm= -4.78*(np.log10(frek))+18.33*(np.log10(frek))-40.94\r\n",
        "    else :\r\n",
        "        Cm='tipe salah'\r\n",
        "    \r\n",
        "    ahr = (1.1*np.log10(frek)-0.7)*hr-(1.56*np.log10(frek)-1.8)\r\n",
        "    Lp = Ca+(Cb*np.log10(frek))-(13.83*np.log(ht))-ahr+((44.9-6.55*np.log10(ht))*np.log10(d))-Cm\r\n",
        "    \r\n",
        "    return Lp"
      ],
      "execution_count": 84,
      "outputs": [
        {
          "output_type": "stream",
          "text": [
            "M.Iman Rahmanda_1101180335\n"
          ],
          "name": "stdout"
        }
      ]
    },
    {
      "cell_type": "code",
      "metadata": {
        "colab": {
          "base_uri": "https://localhost:8080/"
        },
        "id": "1RY8oGvFabwD",
        "outputId": "389054d8-39bd-4ad2-b930-ff4f30f6d0b6"
      },
      "source": [
        "print (\"M.Iman Rahmanda_1101180335\")\r\n",
        "freku=1800 #MHz\r\n",
        "loc='urban'\r\n",
        "tower=80 #m\r\n",
        "user=1.5 #m\r\n",
        "Dmin=200 #m\r\n",
        "Dmax=700 #m\r\n",
        "N=200 #titik\r\n",
        "A=np.random.randint(Dmin,Dmax,N)\r\n",
        "print(A)"
      ],
      "execution_count": 85,
      "outputs": [
        {
          "output_type": "stream",
          "text": [
            "M.Iman Rahmanda_1101180335\n",
            "[407 593 236 318 302 502 473 311 654 694 335 325 570 640 402 302 417 599\n",
            " 469 633 274 680 406 520 629 593 372 550 332 343 228 590 461 257 361 252\n",
            " 557 620 477 633 440 278 675 544 586 618 287 397 521 466 501 424 230 466\n",
            " 626 368 268 294 579 348 490 275 436 503 218 439 512 323 303 429 493 558\n",
            " 432 254 522 537 209 274 604 506 382 338 298 569 385 284 407 442 545 312\n",
            " 426 275 288 237 534 456 253 383 231 508 515 502 209 337 485 604 679 614\n",
            " 359 641 269 601 319 384 220 222 530 622 310 274 690 695 208 202 673 325\n",
            " 640 219 389 671 329 366 324 553 201 633 616 246 260 476 313 663 307 556\n",
            " 226 430 617 347 451 660 295 437 684 321 474 577 598 280 435 570 211 655\n",
            " 343 298 378 412 695 567 599 449 656 226 476 395 204 462 643 227 215 560\n",
            " 227 245 278 260 560 637 649 311 481 470 593 381 590 689 644 385 417 521\n",
            " 499 375]\n"
          ],
          "name": "stdout"
        }
      ]
    },
    {
      "cell_type": "code",
      "metadata": {
        "colab": {
          "base_uri": "https://localhost:8080/"
        },
        "id": "RReErsWLab4e",
        "outputId": "54bff7d6-6077-4e60-acd8-c73c8ad679c0"
      },
      "source": [
        "print (\"M.Iman Rahmanda_1101180335\")\r\n",
        "GrafikUrban=cos(freku,loc,tower,user,A)\r\n",
        "print(GrafikUrban)"
      ],
      "execution_count": 86,
      "outputs": [
        {
          "output_type": "stream",
          "text": [
            "M.Iman Rahmanda_1101180335\n",
            "[179.64890493 184.95070011 171.97216775 176.17295956 175.44576648\n",
            " 182.60401352 181.76581574 175.85942145 186.32992522 187.1661492\n",
            " 176.90655882 176.47967047 184.39347619 186.02511066 179.47478358\n",
            " 175.44576648 179.99082068 185.09250907 181.64618668 185.87019368\n",
            " 174.07519091 186.87908348 179.61425242 183.10025324 185.78089869\n",
            " 184.95070011 178.38227987 183.89034279 176.77984519 177.23899284\n",
            " 171.48638728 184.87925665 181.40383683 173.17293892 177.95946883\n",
            " 172.89618665 184.0684909  185.57789095 181.88443739 185.87019368\n",
            " 180.74708972 174.27934286 186.77512553 183.73583041 184.78343154\n",
            " 185.53237803 174.72814591 179.29848294 183.12731614 181.5557934\n",
            " 182.5759253  180.22531757 171.60941197 181.5557934  185.713554\n",
            " 178.22999474 173.76330575 175.06758974 184.61415283 177.44284933\n",
            " 182.26320082 174.12650695 180.61844739 182.63204584 170.85461155\n",
            " 180.71503911 182.88185758 176.39271811 175.4923326  180.39045706\n",
            " 182.34918016 184.0937577  180.48861939 173.00754089 183.15432715\n",
            " 183.5533974  170.26072435 174.07519091 185.20960232 182.71580964\n",
            " 178.75594203 177.03214275 175.2579472  184.36874179 178.8661348\n",
            " 174.58012804 179.64890493 180.81097299 183.76170046 175.90464216\n",
            " 180.29160587 174.12650695 174.77714157 172.03172909 183.4744827\n",
            " 181.25022312 172.9519738  178.79276882 171.67052372 182.77137672\n",
            " 182.96415327 182.60401352 170.26072435 176.99040572 182.11872533\n",
            " 185.20960232 186.85835318 185.44090863 177.88121175 186.04710322\n",
            " 173.81576852 185.13946324 176.2171864  178.82949958 170.98325388\n",
            " 171.11073201 183.36857064 185.62325729 175.81405511 174.07519091\n",
            " 187.08472564 187.18643176 170.19316433 169.78085477 186.73332658\n",
            " 176.47967047 186.02511066 170.91907957 179.01173029 186.69140322\n",
            " 176.65198134 178.15323031 176.43626138 183.96696802 169.71094774\n",
            " 185.87019368 185.48671757 172.55674281 173.3364174  181.85487549\n",
            " 175.94971816 186.52245082 175.67707279 184.04317869 171.36227866\n",
            " 180.42325391 185.5095663  177.40231336 181.09491573 186.45856755\n",
            " 175.11542082 180.65071828 186.96170094 176.30522567 181.79556493\n",
            " 184.56541147 185.06897316 174.3803199  180.5861024  184.39347619\n",
            " 170.39488001 186.35144736 177.23899284 175.2579472  178.60766448\n",
            " 179.8209002  187.18643176 184.31914231 185.09250907 181.03231012\n",
            " 186.37293666 171.36227866 181.85487549 179.22734017 169.91963656\n",
            " 181.43435956 186.09098562 171.42446965 170.65941807 184.14415574\n",
            " 171.42446965 172.49936498 174.27934286 173.3364174  184.14415574\n",
            " 185.95892618 186.22181849 175.85942145 182.00206845 181.67618932\n",
            " 184.95070011 178.71901871 184.87925665 187.06429599 186.11287566\n",
            " 178.8661348  179.99082068 183.12731614 182.51958027 178.49542295]\n"
          ],
          "name": "stdout"
        }
      ]
    },
    {
      "cell_type": "code",
      "metadata": {
        "colab": {
          "base_uri": "https://localhost:8080/"
        },
        "id": "w1jTKncMab8W",
        "outputId": "8b99438d-6317-4f66-b0c6-6c7056a96bce"
      },
      "source": [
        "print (\"M.Iman Rahmanda_1101180335\")\r\n",
        "A_sorting=A[np.argsort(A)]\r\n",
        "Urban_sorting=GrafikUrban[np.argsort(A)]"
      ],
      "execution_count": 87,
      "outputs": [
        {
          "output_type": "stream",
          "text": [
            "M.Iman Rahmanda_1101180335\n"
          ],
          "name": "stdout"
        }
      ]
    },
    {
      "cell_type": "code",
      "metadata": {
        "colab": {
          "base_uri": "https://localhost:8080/"
        },
        "id": "EBZDuTbgab-L",
        "outputId": "29d71462-985a-4669-97aa-c1a76e555919"
      },
      "source": [
        "print (\"M.Iman Rahmanda_1101180335\")\r\n",
        "freku=1800 #MHz\r\n",
        "loc='suburban'\r\n",
        "tower=80 #m\r\n",
        "user=1.5 #m\r\n",
        "Dmin=200 #m\r\n",
        "Dmax=700 #m\r\n",
        "N=200 #titik\r\n",
        "S=np.random.randint(Dmin,Dmax,N)\r\n",
        "print(S)"
      ],
      "execution_count": 88,
      "outputs": [
        {
          "output_type": "stream",
          "text": [
            "M.Iman Rahmanda_1101180335\n",
            "[362 580 273 300 215 604 430 238 517 441 666 423 597 388 640 621 338 356\n",
            " 548 401 550 462 216 611 473 268 669 666 265 442 221 400 372 286 600 456\n",
            " 612 390 288 306 691 573 357 332 378 652 343 353 219 202 495 675 275 638\n",
            " 381 414 308 209 276 216 492 375 238 273 575 510 613 448 395 585 250 644\n",
            " 367 429 331 277 397 567 424 431 320 668 592 628 513 261 201 202 238 578\n",
            " 666 410 440 689 283 348 642 357 214 282 343 524 219 563 395 421 532 207\n",
            " 563 445 451 269 504 536 301 656 226 476 339 567 549 321 656 286 292 224\n",
            " 650 449 500 382 242 588 390 343 223 465 556 279 236 495 544 297 217 215\n",
            " 352 267 517 614 463 289 694 622 285 397 510 359 519 291 636 436 225 435\n",
            " 689 660 468 384 358 266 220 469 612 260 662 261 325 492 270 601 606 694\n",
            " 468 547 363 449 348 322 361 543 392 540 522 264 204 232 310 491 448 440\n",
            " 309 565]\n"
          ],
          "name": "stdout"
        }
      ]
    },
    {
      "cell_type": "code",
      "metadata": {
        "colab": {
          "base_uri": "https://localhost:8080/"
        },
        "id": "wzlVXWbsab__",
        "outputId": "c357b12e-d63b-4c61-da3d-6196e034c0fe"
      },
      "source": [
        "print (\"M.Iman Rahmanda_1101180335\")\r\n",
        "Grafiksuburban=cos(freku,loc,tower,user,S)\r\n",
        "print(Grafiksuburban)"
      ],
      "execution_count": 89,
      "outputs": [
        {
          "output_type": "stream",
          "text": [
            "M.Iman Rahmanda_1101180335\n",
            "[174.43089283 181.0709183  170.45614514 171.78462777 167.09187596\n",
            " 181.64206022 176.8557118  168.52349755 179.45120905 177.21152547\n",
            " 183.01850358 176.62451397 181.47785576 175.40793015 182.45756855\n",
            " 182.03305028 173.46460065 174.19546276 180.27148464 175.87215743\n",
            " 180.32280069 177.86681746 167.15724145 181.80437257 178.19827363\n",
            " 170.19576365 183.08181262 183.01850358 170.0371927  177.24343089\n",
            " 167.47959505 175.83698578 174.81473776 171.11143713 181.54846361\n",
            " 177.68268101 181.82740812 175.48035312 171.20959946 172.06357228\n",
            " 183.53758359 180.89987776 174.23497538 173.21230308 175.04012237\n",
            " 182.71923993 173.67145073 174.07625553 167.35153746 166.21331267\n",
            " 178.83866743 183.20758343 170.55896485 182.41348013 175.15147661\n",
            " 176.32157245 172.15533963 166.69318225 170.61009462 167.15724145\n",
            " 178.75303655 174.92788084 168.52349755 170.45614514 180.94895877\n",
            " 179.25918336 181.85040607 177.43336056 175.65979807 181.19183095\n",
            " 169.21640301 182.54533355 174.62412271 176.82291496 173.16981063\n",
            " 170.66103948 175.73094083 180.7516002  176.65777546 176.88843246\n",
            " 172.69373271 183.0607412  181.35938376 182.19094411 179.34180083\n",
            " 169.82294921 166.14340564 166.21331267 168.52349755 181.02226113\n",
            " 183.01850358 176.18481179 177.17954762 183.49675389 170.96289898\n",
            " 173.87530722 182.50151941 174.23497538 167.02620574 170.91303614\n",
            " 173.67145073 179.64065218 167.35153746 180.65187421 175.65979807\n",
            " 176.55775442 179.8540841  166.55773661 180.65187421 177.33871583\n",
            " 177.52737362 170.24822642 179.09248038 179.95959949 171.83150381\n",
            " 182.80539456 167.79473655 178.28733339 173.50621438 180.7516002\n",
            " 180.29716603 172.73768357 182.80539456 171.11143713 171.40389547\n",
            " 167.66952473 182.6759642  177.46476802 178.98023885 175.18839993\n",
            " 168.75827361 181.26388348 175.48035312 173.67145073 167.60649895\n",
            " 177.95799083 180.47563659 170.76237975 168.40462564 178.83866743\n",
            " 180.1682883  171.64305635 167.22230502 167.09187596 174.03629454\n",
            " 170.14310475 179.45120905 181.87336652 177.8972742  171.25842529\n",
            " 183.5986071  182.05571519 171.06209824 175.73094083 179.25918336\n",
            " 174.31366965 179.50559614 171.35557214 182.36925329 177.05090528\n",
            " 167.73226976 177.01856029 183.49675389 182.89102544 178.04857788\n",
            " 175.26195747 174.27437747 170.09024827 167.41571178 178.07864457\n",
            " 181.82740812 169.7688753  182.93364647 169.82294921 172.91212837\n",
            " 178.75303655 170.30049452 181.57192113 181.68862633 183.5986071\n",
            " 178.04857788 180.24575635 174.46975144 177.46476802 173.87530722\n",
            " 172.78149772 174.39192672 180.14237066 175.55240565 180.06433036\n",
            " 179.58678505 169.98393654 166.35209446 168.16382939 172.24651301\n",
            " 178.72437685 177.43336056 177.17954762 172.20100008 180.70182546]\n"
          ],
          "name": "stdout"
        }
      ]
    },
    {
      "cell_type": "code",
      "metadata": {
        "colab": {
          "base_uri": "https://localhost:8080/"
        },
        "id": "cTSAlrjpacBw",
        "outputId": "5e590803-ffec-4f88-db41-0f51ff05ce9e"
      },
      "source": [
        "print (\"M.Iman Rahmanda_1101180335\")\r\n",
        "S_sorting=S[np.argsort(S)]\r\n",
        "suburban_sorting=Grafiksuburban[np.argsort(S)]"
      ],
      "execution_count": 90,
      "outputs": [
        {
          "output_type": "stream",
          "text": [
            "M.Iman Rahmanda_1101180335\n"
          ],
          "name": "stdout"
        }
      ]
    },
    {
      "cell_type": "code",
      "metadata": {
        "colab": {
          "base_uri": "https://localhost:8080/"
        },
        "id": "2DrNVXKBacDo",
        "outputId": "7622a2d3-11d0-4d1a-c892-3667d80e9259"
      },
      "source": [
        "print (\"M.Iman Rahmanda_1101180335\")\r\n",
        "freku=1800 #MHz\r\n",
        "loc='open'\r\n",
        "tower=80 #m\r\n",
        "user=1.5 #m\r\n",
        "Dmin=200 #m\r\n",
        "Dmax=700 #m\r\n",
        "N=200 #titik\r\n",
        "D=np.random.randint(Dmin,Dmax,N)\r\n",
        "print(D)"
      ],
      "execution_count": 91,
      "outputs": [
        {
          "output_type": "stream",
          "text": [
            "M.Iman Rahmanda_1101180335\n",
            "[347 433 589 636 444 403 447 371 409 275 663 263 479 579 337 653 465 470\n",
            " 424 228 497 517 603 294 438 539 481 623 624 384 668 621 423 501 515 266\n",
            " 646 617 601 373 675 354 329 224 328 680 228 504 262 629 522 678 485 209\n",
            " 265 490 592 224 546 210 698 254 581 491 260 227 549 414 524 313 213 681\n",
            " 379 244 353 320 694 493 481 659 681 337 541 309 557 283 233 372 450 577\n",
            " 562 568 595 263 334 618 530 591 505 539 607 587 371 595 669 246 547 275\n",
            " 533 372 488 328 413 486 227 238 305 436 519 554 442 243 363 650 598 369\n",
            " 284 383 602 327 463 550 393 517 460 287 238 340 647 584 433 567 225 219\n",
            " 347 211 483 229 228 205 406 250 383 545 217 209 367 334 360 429 482 257\n",
            " 513 597 394 392 343 694 469 446 431 201 641 414 672 376 542 645 400 561\n",
            " 690 231 443 599 452 526 411 497 630 573 596 460 587 343 489 365 267 458\n",
            " 674 458]\n"
          ],
          "name": "stdout"
        }
      ]
    },
    {
      "cell_type": "code",
      "metadata": {
        "colab": {
          "base_uri": "https://localhost:8080/"
        },
        "id": "yHO5JwkracFN",
        "outputId": "addf8b36-9f92-41db-d442-8eb756a5b427"
      },
      "source": [
        "print (\"M.Iman Rahmanda_1101180335\")\r\n",
        "Grafikopen=cos(freku,loc,tower,user,D)\r\n",
        "print(Grafikopen)"
      ],
      "execution_count": 92,
      "outputs": [
        {
          "output_type": "stream",
          "text": [
            "M.Iman Rahmanda_1101180335\n",
            "[174.23337092 177.3522463  181.68641898 182.76785295 177.70562541\n",
            " 176.34083802 177.80048259 175.17542021 176.54901281 170.95756451\n",
            " 183.35350838 170.32907792 178.77443326 181.44521038 173.82146328\n",
            " 183.1394277  178.3565905  178.50724688 177.05637512 168.31744483\n",
            " 179.29406652 179.84980871 182.01731897 171.8986473  177.51397296\n",
            " 180.43682021 178.833126   182.47694335 182.49953555 175.66055713\n",
            " 183.45934086 182.43164994 177.02311363 179.40698285 179.79521082\n",
            " 170.48884793 182.98761151 182.34062386 181.97052079 175.25115285\n",
            " 183.60618309 174.51470313 173.48303889 168.06812439 173.44015838\n",
            " 183.71014103 168.31744483 179.49108004 170.275416   182.61195624\n",
            " 179.98538471 183.66864988 178.94978288 167.09178191 170.43579236\n",
            " 179.09425838 181.75798342 168.06812439 180.61858064 167.15901945\n",
            " 184.07816237 169.83859844 181.49378367 179.12297651 170.16747496\n",
            " 168.25552721 180.69576569 176.72017211 180.03925184 172.78077571\n",
            " 167.35882758 183.73084087 175.47593801 169.27281004 174.47485519\n",
            " 173.09233237 183.99720676 179.18023772 178.833126   183.26826614\n",
            " 183.73084087 173.82146328 180.48899152 172.59959974 180.89954845\n",
            " 171.36149864 168.62301511 175.21333742 177.89470526 181.39646903\n",
            " 181.02543166 181.17502143 181.82918612 170.32907792 173.69550502\n",
            " 182.36343558 180.19962819 181.73416898 179.51900124 180.43682021\n",
            " 182.11045145 181.63850656 175.17542021 181.82918612 183.48041228\n",
            " 169.38780037 180.64435601 170.95756451 180.2791368  175.21333742\n",
            " 179.03664588 173.44015838 176.68610622 178.97879677 168.25552721\n",
            " 168.92209721 172.41606311 177.44950494 179.9041958  180.82347498\n",
            " 177.64203055 169.21496093 174.8683511  183.07456387 181.90003072\n",
            " 175.0992782  171.41118559 175.62382637 181.99393931 173.39714693\n",
            " 178.29587386 180.72140035 175.98689383 179.84980871 178.20430536\n",
            " 171.55920346 168.92209721 173.9463052  183.00939997 181.56633097\n",
            " 177.3522463  181.15019986 168.13086942 167.75013712 174.23337092\n",
            " 167.22593757 178.89157521 168.37909149 168.31744483 166.81957561\n",
            " 176.44530998 169.61500267 175.62382637 180.59275801 167.62090468\n",
            " 167.09178191 175.02272237 173.69550502 174.75145219 177.22151462\n",
            " 178.86238092 170.00399648 179.74040049 181.87645542 176.02269115\n",
            " 175.95100531 174.07005039 183.99720676 178.47724423 177.76893445\n",
            " 177.28703212 166.5420053  182.87816078 176.72017211 183.54343805\n",
            " 175.36399381 180.51500489 182.96578929 176.23558544 181.00034486\n",
            " 183.91578319 168.50158128 177.67386387 181.92356662 177.95717205\n",
            " 180.09291376 176.6177263  179.29406652 182.63433311 181.29847742\n",
            " 181.8528406  178.20430536 181.63850656 174.07005039 179.06548158\n",
            " 174.9457482  170.54170442 178.14292732 183.58529912 178.14292732]\n"
          ],
          "name": "stdout"
        }
      ]
    },
    {
      "cell_type": "code",
      "metadata": {
        "colab": {
          "base_uri": "https://localhost:8080/"
        },
        "id": "BYGSd4Bna6-k",
        "outputId": "4fe5fa18-37b6-4fe7-a59f-371fd8ff9b24"
      },
      "source": [
        "print (\"M.Iman Rahmanda_1101180335\")\r\n",
        "D_sorting=D[np.argsort(D)]\r\n",
        "open_sorting=Grafikopen[np.argsort(D)]"
      ],
      "execution_count": 93,
      "outputs": [
        {
          "output_type": "stream",
          "text": [
            "M.Iman Rahmanda_1101180335\n"
          ],
          "name": "stdout"
        }
      ]
    },
    {
      "cell_type": "code",
      "metadata": {
        "colab": {
          "base_uri": "https://localhost:8080/",
          "height": 312
        },
        "id": "GAHpaRVPacGx",
        "outputId": "3d23260b-1cac-4fb6-e3ca-1e4f92495b0c"
      },
      "source": [
        "print (\"M.Iman Rahmanda_1101180335\")\r\n",
        "plt.figure()\r\n",
        "plt.plot(A_sorting,Urban_sorting,'r', label='Urban')\r\n",
        "plt.plot(D_sorting,open_sorting,'g', label='Open')\r\n",
        "plt.plot(S_sorting,suburban_sorting,'b', label='Suburban')\r\n",
        "plt.legend()\r\n",
        "plt.title('FREKUENSI 1800 MHZ (GAMBAR CONTOH)')\r\n",
        "plt.xlabel('Jarak (m)')\r\n",
        "plt.ylabel('Path Loss (dB)')\r\n",
        "plt.show()"
      ],
      "execution_count": 94,
      "outputs": [
        {
          "output_type": "stream",
          "text": [
            "M.Iman Rahmanda_1101180335\n"
          ],
          "name": "stdout"
        },
        {
          "output_type": "display_data",
          "data": {
            "image/png": "[encoded data removed]",
            "text/plain": [
              "<Figure size 432x288 with 1 Axes>"
            ]
          },
          "metadata": {
            "tags": [],
            "needs_background": "light"
          }
        }
      ]
    },
    {
      "cell_type": "code",
      "metadata": {
        "colab": {
          "base_uri": "https://localhost:8080/"
        },
        "id": "HX9fMcTHacIc",
        "outputId": "535a211f-1fba-45d9-abfc-d9470f671842"
      },
      "source": [
        "print (\"M.Iman Rahmanda_1101180335\")\r\n",
        "freku=1800 #MHz\r\n",
        "loc='urban'\r\n",
        "tower=80 #m\r\n",
        "user=1.5 #m\r\n",
        "Dmin=200 #m\r\n",
        "Dmax=700 #m\r\n",
        "N=200 #titik\r\n",
        "R=np.random.randint(Dmin,Dmax,N)\r\n",
        "print(R)"
      ],
      "execution_count": 95,
      "outputs": [
        {
          "output_type": "stream",
          "text": [
            "M.Iman Rahmanda_1101180335\n",
            "[240 224 570 538 319 552 395 457 563 518 574 362 273 373 506 477 231 279\n",
            " 517 438 200 554 587 522 621 683 276 666 327 353 205 304 544 698 584 583\n",
            " 576 684 431 679 361 652 467 256 379 230 328 257 619 584 647 603 536 351\n",
            " 277 653 447 557 681 352 585 397 623 500 595 316 562 610 449 556 546 220\n",
            " 662 294 536 298 316 610 277 378 675 289 496 381 582 504 314 347 284 405\n",
            " 381 490 270 486 358 379 539 363 311 590 237 684 218 591 425 308 223 678\n",
            " 239 403 455 602 232 205 523 398 617 215 606 398 611 629 482 587 501 201\n",
            " 635 442 651 316 540 538 338 512 465 234 429 540 509 632 335 699 640 689\n",
            " 206 359 523 348 664 672 506 445 501 218 685 467 345 513 473 449 238 368\n",
            " 591 642 233 532 426 538 381 217 486 276 266 345 203 684 203 656 498 676\n",
            " 313 544 353 479 410 329 251 527 220 264 231 681 490 580 632 561 426 366\n",
            " 655 352]\n"
          ],
          "name": "stdout"
        }
      ]
    },
    {
      "cell_type": "code",
      "metadata": {
        "colab": {
          "base_uri": "https://localhost:8080/"
        },
        "id": "q0FpMX9yacKW",
        "outputId": "b7f87318-937b-4a65-c6cd-79f822f51bfd"
      },
      "source": [
        "print (\"M.Iman Rahmanda_1101180335\")\r\n",
        "GrafikUrban1=cos(freku,loc,tower,user,R)\r\n",
        "print(GrafikUrban1)"
      ],
      "execution_count": 96,
      "outputs": [
        {
          "output_type": "stream",
          "text": [
            "M.Iman Rahmanda_1101180335\n",
            "[172.20891681 171.23706683 184.39347619 183.57960436 176.2171864\n",
            " 183.94147257 179.22734017 181.28108017 184.21941631 183.04597095\n",
            " 184.49198175 177.99843493 174.02368724 178.42009529 182.71580964\n",
            " 181.88443739 171.67052372 174.32992186 183.01875116 180.68291541\n",
            " 169.64069205 183.99241742 184.807449   183.15432715 185.60059238\n",
            " 186.94109196 174.17763673 186.58604568 176.56608938 177.64379763\n",
            " 169.98851806 175.53874529 183.73583041 187.24710481 184.73527342\n",
            " 184.71113247 184.5409774  186.96170094 180.45597456 186.85835318\n",
            " 177.95946883 186.28678204 181.58598899 173.11802175 178.64488045\n",
            " 171.60941197 176.60910082 173.17293892 185.55515287 184.73527342\n",
            " 186.17834241 185.18626141 183.52714159 177.56376198 174.22858158\n",
            " 186.30837014 180.96942503 184.0684909  186.89978332 177.60383665\n",
            " 184.75937306 179.29848294 185.64588579 182.54778096 184.99812856\n",
            " 176.0840871  184.19437411 185.34884139 181.03231012 184.04317869\n",
            " 183.78752308 170.98325388 186.50118857 175.06758974 183.52714159\n",
            " 175.2579472  176.0840871  185.34884139 174.22858158 178.60766448\n",
            " 186.77512553 174.82596739 182.43463788 178.71901871 184.68695008\n",
            " 182.66002249 175.99465037 177.40231336 174.58012804 179.57951445\n",
            " 178.71901871 182.26320082 173.86803663 182.14773921 177.84191957\n",
            " 178.64488045 183.60576266 178.03729354 175.85942145 184.87925665\n",
            " 172.03172909 186.96170094 170.85461155 184.90311142 180.25850071\n",
            " 175.72288173 171.17404105 186.83759232 172.15010153 179.50978046\n",
            " 181.21929832 185.16288176 171.7313715  169.98851806 183.18128647\n",
            " 179.33392003 185.5095663  170.65941807 185.25616844 179.33392003\n",
            " 185.37191467 185.78089869 182.03132336 184.807449   182.5759253\n",
            " 169.71094774 185.91462979 180.81097299 186.26516079 176.0840871\n",
            " 183.63187246 183.57960436 177.03214275 182.88185758 181.52553294\n",
            " 171.85228415 180.39045706 183.63187246 182.79907828 185.84792294\n",
            " 176.90655882 187.26727123 186.02511066 187.06429599 170.05706436\n",
            " 177.88121175 183.18128647 177.44284933 186.54368103 186.7123805\n",
            " 182.71580964 180.90625794 182.5759253  170.85461155 186.98227982\n",
            " 181.58598899 177.3208898  182.90934294 181.76581574 181.03231012\n",
            " 172.09103965 178.22999474 184.90311142 186.06906151 171.79195756\n",
            " 183.42162621 180.29160587 183.57960436 178.71901871 170.78984712\n",
            " 182.14773921 174.17763673 173.65779037 177.3208898  169.85041658\n",
            " 186.96170094 169.85041658 186.37293666 182.49132302 186.79597859\n",
            " 175.94971816 183.73583041 177.64379763 181.94337571 179.75235389\n",
            " 176.65198134 172.84017768 183.2886107  170.98325388 173.55147864\n",
            " 171.67052372 186.89978332 182.26320082 184.63846041 185.84792294\n",
            " 184.1692873  180.29160587 178.15323031 186.35144736 177.60383665]\n"
          ],
          "name": "stdout"
        }
      ]
    },
    {
      "cell_type": "code",
      "metadata": {
        "colab": {
          "base_uri": "https://localhost:8080/"
        },
        "id": "uaikuiSracMD",
        "outputId": "a1a86e43-c022-4247-b552-37bf1f53941d"
      },
      "source": [
        "print (\"M.Iman Rahmanda_1101180335\")\r\n",
        "R_sorting=R[np.argsort(R)]\r\n",
        "Urban_sorting1=GrafikUrban1[np.argsort(R)]"
      ],
      "execution_count": 97,
      "outputs": [
        {
          "output_type": "stream",
          "text": [
            "M.Iman Rahmanda_1101180335\n"
          ],
          "name": "stdout"
        }
      ]
    },
    {
      "cell_type": "code",
      "metadata": {
        "colab": {
          "base_uri": "https://localhost:8080/"
        },
        "id": "JpLNqg5FacNy",
        "outputId": "68f2eebd-9ba4-4bcd-a19a-66e067c4f5e1"
      },
      "source": [
        "print (\"M.Iman Rahmanda_1101180335\")\r\n",
        "freku=900 #MHz\r\n",
        "loc='urban'\r\n",
        "tower=80 #m\r\n",
        "user=1.5 #m\r\n",
        "Dmin=200 #m\r\n",
        "Dmax=700 #m\r\n",
        "N=200 #titik\r\n",
        "T=np.random.randint(Dmin,Dmax,N)\r\n",
        "print(T)"
      ],
      "execution_count": 98,
      "outputs": [
        {
          "output_type": "stream",
          "text": [
            "M.Iman Rahmanda_1101180335\n",
            "[585 228 628 413 617 681 210 396 314 444 597 279 622 228 621 550 695 276\n",
            " 610 671 560 367 404 317 227 347 417 343 478 616 367 641 298 656 539 532\n",
            " 229 434 679 407 531 691 610 555 397 279 521 388 361 632 539 491 528 399\n",
            " 640 396 649 479 635 527 274 602 411 354 593 661 229 287 399 629 428 418\n",
            " 327 624 298 216 615 462 331 346 222 243 608 413 699 611 593 358 359 318\n",
            " 649 303 320 605 665 434 587 446 626 410 425 282 390 299 289 660 269 690\n",
            " 612 393 604 380 497 513 346 247 271 334 418 538 643 411 404 606 629 589\n",
            " 223 407 221 299 509 685 692 296 293 374 492 385 581 647 219 260 449 337\n",
            " 631 350 664 311 650 566 411 387 641 407 351 230 377 463 655 644 365 293\n",
            " 421 399 221 412 487 670 229 593 440 306 260 412 618 693 607 506 409 679\n",
            " 334 483 575 313 494 481 277 684 306 418 326 207 671 672 378 298 648 511\n",
            " 340 290]\n"
          ],
          "name": "stdout"
        }
      ]
    },
    {
      "cell_type": "code",
      "metadata": {
        "colab": {
          "base_uri": "https://localhost:8080/"
        },
        "id": "i-UYPsmnacPp",
        "outputId": "beee36d6-2748-43b4-8a80-4fbd297664de"
      },
      "source": [
        "print (\"M.Iman Rahmanda_1101180335\")\r\n",
        "GrafikUrban2=cos(freku,loc,tower,user,T)\r\n",
        "print(GrafikUrban2)"
      ],
      "execution_count": 99,
      "outputs": [
        {
          "output_type": "stream",
          "text": [
            "M.Iman Rahmanda_1101180335\n",
            "[174.96571188 161.6927261  175.96482504 170.06138749 175.71590512\n",
            " 177.10612214 160.53430071 169.46929529 166.2009892  171.08090668\n",
            " 175.25173668 164.53626068 175.82959612 161.6927261  175.80693121\n",
            " 174.09668161 177.39277059 164.38397555 175.55518021 176.89774205\n",
            " 174.35049456 168.39800364 169.75102943 166.33493224 161.63080847\n",
            " 167.60865219 170.19715951 167.44533166 172.1202762  175.6930564\n",
            " 168.39800364 176.25344205 165.46428602 176.57927549 173.81210148\n",
            " 173.62796503 161.75437275 170.76002179 177.064692   169.85524375\n",
            " 173.60146223 177.31146452 175.55518021 174.22415975 169.50482176\n",
            " 164.53626068 173.33365497 169.18181108 168.16580765 176.05426176\n",
            " 173.81210148 172.49825778 173.5216533  169.57560702 176.23144948\n",
            " 169.46929529 176.42815731 172.14971453 176.12096862 173.49494953\n",
            " 164.28152974 175.36922058 169.99300756 167.8899844  175.15703893\n",
            " 176.686233   161.75437275 164.93448473 169.57560702 175.98723751\n",
            " 170.5639225  170.23089901 166.7724282  175.87481682 165.46428602\n",
            " 160.93112238 175.67017055 171.64069839 166.94369156 167.56799924\n",
            " 161.31707084 162.5902422  175.50891995 170.06138749 177.47361005\n",
            " 175.5782535  175.15703893 168.0482584  168.08755058 166.37929838\n",
            " 176.42815731 165.69867142 166.46761364 175.43924345 176.7712181\n",
            " 170.76002179 175.01378782 171.14421572 175.91989282 169.95869272\n",
            " 170.46483953 164.68691707 169.25423405 165.51147614 165.03230622\n",
            " 176.66490637 164.02210735 177.29106446 175.60128905 169.3621751\n",
            " 175.41594115 168.88833718 172.66934778 173.11568176 167.56799924\n",
            " 162.8202267  164.12645032 167.07078629 170.23089901 173.78594319\n",
            " 176.29732444 169.99300756 169.75102943 175.46250726 175.98723751\n",
            " 175.06170024 161.38037988 169.85524375 161.25347598 165.51147614\n",
            " 173.00541711 177.18861864 177.33183507 165.36942885 165.22593453\n",
            " 168.6641483  172.52691748 169.07247363 174.86906493 176.38468123\n",
            " 161.12541839 163.54275622 171.23864895 167.19674455 176.03195576\n",
            " 167.72991179 176.75001985 166.06576028 176.44984513 174.50061574\n",
            " 169.99300756 169.14545948 176.25344205 169.85524375 167.7701008\n",
            " 161.81575079 168.77668874 171.67115513 176.55778618 176.31921448\n",
            " 168.32102947 165.22593453 170.33163535 169.57560702 161.25347598\n",
            " 170.02723902 172.38303229 176.87673349 161.75437275 175.15703893\n",
            " 170.95342854 165.83745321 163.54275622 170.02723902 175.73871685\n",
            " 177.35217621 175.48573272 172.92214846 169.92429407 177.064692\n",
            " 167.07078629 172.26685647 174.7228397  166.15605698 172.58406253\n",
            " 172.20840727 164.43492041 177.16803977 165.83745321 170.23089901\n",
            " 166.72928502 160.33161754 176.89774205 176.91871932 168.8140033\n",
            " 165.46428602 176.40643605 173.06065732 167.32158646 165.08096339]\n"
          ],
          "name": "stdout"
        }
      ]
    },
    {
      "cell_type": "code",
      "metadata": {
        "colab": {
          "base_uri": "https://localhost:8080/"
        },
        "id": "mriKav2dacRo",
        "outputId": "181415fd-8c25-4021-97ec-dfb648ec3e34"
      },
      "source": [
        "print (\"M.Iman Rahmanda_1101180335\")\r\n",
        "T_sorting=T[np.argsort(T)]\r\n",
        "Urban_sorting2=GrafikUrban2[np.argsort(T)]"
      ],
      "execution_count": 100,
      "outputs": [
        {
          "output_type": "stream",
          "text": [
            "M.Iman Rahmanda_1101180335\n"
          ],
          "name": "stdout"
        }
      ]
    },
    {
      "cell_type": "code",
      "metadata": {
        "colab": {
          "base_uri": "https://localhost:8080/"
        },
        "id": "2z_93CU2acTX",
        "outputId": "3aa4c44f-8787-4270-bee5-f9e769b43aa6"
      },
      "source": [
        "print (\"M.Iman Rahmanda_1101180335\")\r\n",
        "freku=700 #MHz\r\n",
        "loc='urban'\r\n",
        "tower=80 #m\r\n",
        "user=1.5 #m\r\n",
        "Dmin=200 #m\r\n",
        "Dmax=700 #m\r\n",
        "N=200 #titik\r\n",
        "Y=np.random.randint(Dmin,Dmax,N)\r\n",
        "print(Y)"
      ],
      "execution_count": 101,
      "outputs": [
        {
          "output_type": "stream",
          "text": [
            "M.Iman Rahmanda_1101180335\n",
            "[361 649 465 627 592 258 312 376 355 298 644 363 560 699 568 320 337 243\n",
            " 567 246 249 387 685 371 308 397 348 408 636 655 468 449 332 272 333 222\n",
            " 560 459 348 320 298 551 518 434 422 268 505 446 656 254 574 583 230 350\n",
            " 412 698 441 648 384 475 452 312 399 539 613 623 430 380 263 331 586 331\n",
            " 438 357 441 686 411 250 279 426 467 353 608 370 693 409 420 659 472 559\n",
            " 269 407 498 644 326 649 414 395 253 698 366 687 309 354 576 412 621 275\n",
            " 604 532 258 394 657 339 687 338 676 268 529 507 360 614 297 481 397 557\n",
            " 271 602 245 666 603 304 427 216 263 619 310 407 398 394 331 278 647 237\n",
            " 665 476 264 299 366 235 608 476 493 262 496 481 252 556 664 679 444 597\n",
            " 390 440 518 261 628 624 511 406 396 553 241 692 271 279 531 530 273 349\n",
            " 601 382 608 394 472 585 692 699 295 538 387 592 510 423 277 540 689 370\n",
            " 692 654]\n"
          ],
          "name": "stdout"
        }
      ]
    },
    {
      "cell_type": "code",
      "metadata": {
        "colab": {
          "base_uri": "https://localhost:8080/"
        },
        "id": "lR0O3dZlacVL",
        "outputId": "43d033f7-6b98-4b92-fc45-a2887e4549d1"
      },
      "source": [
        "print (\"M.Iman Rahmanda_1101180335\")\r\n",
        "GrafikUrban3=cos(freku,loc,tower,user,Y)\r\n",
        "print(GrafikUrban3)"
      ],
      "execution_count": 102,
      "outputs": [
        {
          "output_type": "stream",
          "text": [
            "M.Iman Rahmanda_1101180335\n",
            "[165.32041133 173.58276099 168.88647544 173.09698053 172.28786837\n",
            " 160.58858533 163.26558467 165.89387876 165.08432361 162.61888971\n",
            " 173.47381816 165.39823605 171.50509824 174.62821373 171.70490638\n",
            " 163.62221732 164.35134823 159.74484588 171.68008481 159.91768532\n",
            " 160.08842968 166.30006316 174.34322233 165.70530516 163.08382424\n",
            " 166.65942544 164.80379183 167.0444149  173.2977379  173.71238986\n",
            " 168.97706249 168.39325263 164.14078769 161.33293708 164.18315235\n",
            " 158.47167452 171.50509824 168.70353472 164.80379183 163.62221732\n",
            " 162.61888971 171.27687338 170.40691345 167.91462547 167.51965835\n",
            " 161.12424826 170.04888619 168.2988194  173.73387917 160.36848339\n",
            " 171.85292425 172.07207498 158.97035447 164.88451548 167.1818427\n",
            " 174.60804732 168.14001008 173.56103973 166.19044208 169.18619393\n",
            " 168.487057   163.26558467 166.73021071 170.96670516 172.77889068\n",
            " 173.0068283  167.78419641 166.04294086 160.85896287 164.09829524\n",
            " 172.14437405 164.09829524 168.04385791 165.16345999 168.14001008\n",
            " 174.36377118 167.14761125 160.14488762 161.69086436 167.65254837\n",
            " 168.94693149 165.00474014 172.66352363 165.6672856  174.5067799\n",
            " 167.07889776 167.45274023 173.79815109 169.09694609 171.47992176\n",
            " 161.17671103 167.00984743 169.85226552 173.47381816 163.8838887\n",
            " 173.58276099 167.25005706 166.58828268 160.31291631 174.60804732\n",
            " 165.51417282 174.3842901  163.12948469 165.04458808 171.90191991\n",
            " 167.1818427  172.96153489 161.48744946 172.57054483 170.78256872\n",
            " 160.58858533 166.5525761  173.75533574 164.43469899 174.3842901\n",
            " 164.39308526 174.1569211  161.12424826 170.70291023 170.10456309\n",
            " 165.28133714 172.80185113 162.57154096 169.36301095 166.65942544\n",
            " 171.4294334  161.28105401 172.52382426 159.86030749 173.94698819\n",
            " 172.54720392 162.89968779 167.68557591 158.08572606 160.85896287\n",
            " 172.91609537 163.17499762 167.00984743 166.69486254 166.5525761\n",
            " 164.09829524 161.64028536 173.53928492 159.3926716  173.92582179\n",
            " 169.215818   160.91242115 162.66607983 165.51417282 159.27329599\n",
            " 172.66352363 169.215818   169.71012266 160.80530095 169.79558038\n",
            " 169.36301095 160.25712916 171.4041212  173.90462353 174.21929568\n",
            " 168.23551036 172.40634037 166.40883774 168.10803223 170.40691345\n",
            " 160.75143382 173.11942872 173.0294205  170.21526101 166.97519492\n",
            " 166.62389897 171.32791053 159.62843003 174.48643876 161.28105401\n",
            " 161.69086436 170.75606591 170.72951314 161.38462975 164.84421148\n",
            " 172.50040574 166.11688454 172.66352363 166.5525761  169.09694609\n",
            " 172.12031556 174.48643876 174.62821373 162.47636332 170.94054687\n",
            " 166.30006316 172.28786837 170.18766798 167.55299858 161.58952409\n",
            " 170.99281497 174.4252385  165.6672856  174.48643876 173.69086772]\n"
          ],
          "name": "stdout"
        }
      ]
    },
    {
      "cell_type": "code",
      "metadata": {
        "colab": {
          "base_uri": "https://localhost:8080/"
        },
        "id": "RYT7vgxaacW7",
        "outputId": "00cb3b76-53e7-42ea-c7fb-b3c8bb8f74d6"
      },
      "source": [
        "print (\"M.Iman Rahmanda_1101180335\")\r\n",
        "Y_sorting=Y[np.argsort(Y)]\r\n",
        "Urban_sorting3=GrafikUrban3[np.argsort(Y)]"
      ],
      "execution_count": 103,
      "outputs": [
        {
          "output_type": "stream",
          "text": [
            "M.Iman Rahmanda_1101180335\n"
          ],
          "name": "stdout"
        }
      ]
    },
    {
      "cell_type": "code",
      "metadata": {
        "colab": {
          "base_uri": "https://localhost:8080/",
          "height": 312
        },
        "id": "EBQJr6h_acYt",
        "outputId": "9b9a46ae-bf10-4dfd-a997-47ab3cde6ba3"
      },
      "source": [
        "print (\"M.Iman Rahmanda_1101180335\")\r\n",
        "plt.figure()\r\n",
        "plt.plot(R_sorting,Urban_sorting1,'k', label='1800 Mhz')\r\n",
        "plt.plot(T_sorting,Urban_sorting2,'b', label='900 Mhz')\r\n",
        "plt.plot(Y_sorting,Urban_sorting3,'r', label='700 Mhz')\r\n",
        "plt.legend()\r\n",
        "plt.title('Model Urban (GAMBAR CONTOH)')\r\n",
        "plt.xlabel('Jarak (m)')\r\n",
        "plt.ylabel('Path Loss (dB)')\r\n",
        "plt.show()"
      ],
      "execution_count": 104,
      "outputs": [
        {
          "output_type": "stream",
          "text": [
            "M.Iman Rahmanda_1101180335\n"
          ],
          "name": "stdout"
        },
        {
          "output_type": "display_data",
          "data": {
            "image/png": "[encoded data removed]",
            "text/plain": [
              "<Figure size 432x288 with 1 Axes>"
            ]
          },
          "metadata": {
            "tags": [],
            "needs_background": "light"
          }
        }
      ]
    },
    {
      "cell_type": "code",
      "metadata": {
        "id": "QjibPK2UYqB1"
      },
      "source": [
        ""
      ],
      "execution_count": null,
      "outputs": []
    }
  ]
}